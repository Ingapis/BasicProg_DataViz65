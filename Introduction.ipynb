{
  "nbformat": 4,
  "nbformat_minor": 0,
  "metadata": {
    "colab": {
      "name": "Introduction.ipynb",
      "provenance": [],
      "authorship_tag": "ABX9TyNOCNBFDwvSgXchBY7t4SpF",
      "include_colab_link": true
    },
    "kernelspec": {
      "name": "python3",
      "display_name": "Python 3"
    },
    "language_info": {
      "name": "python"
    }
  },
  "cells": [
    {
      "cell_type": "markdown",
      "metadata": {
        "id": "view-in-github",
        "colab_type": "text"
      },
      "source": [
        "<a href=\"https://colab.research.google.com/github/Ingapis/BasicProg_DataViz65/blob/main/Introduction.ipynb\" target=\"_parent\"><img src=\"https://colab.research.google.com/assets/colab-badge.svg\" alt=\"Open In Colab\"/></a>"
      ]
    },
    {
      "cell_type": "code",
      "execution_count": null,
      "metadata": {
        "id": "EG7pyuJ5FdUp"
      },
      "outputs": [],
      "source": [
        ""
      ]
    },
    {
      "cell_type": "markdown",
      "source": [
        "อภิศรา พงษ์เซียงซา"
      ],
      "metadata": {
        "id": "6fV9Iv1UFrTE"
      }
    },
    {
      "cell_type": "markdown",
      "source": [
        "# Markdown"
      ],
      "metadata": {
        "id": "eNLDlDBQGRen"
      }
    },
    {
      "cell_type": "markdown",
      "source": [
        "https://github.com/adam-p/markdown-here/wiki/Markdown-Cheatsheet"
      ],
      "metadata": {
        "id": "QsO3wOarIl0y"
      }
    },
    {
      "cell_type": "markdown",
      "source": [
        "## heading 2"
      ],
      "metadata": {
        "id": "HiR1KBWzGaY7"
      }
    },
    {
      "cell_type": "code",
      "source": [
        "print('apissara')\n",
        "apissara"
      ],
      "metadata": {
        "id": "QzVOrbx6HEcE"
      },
      "execution_count": null,
      "outputs": []
    },
    {
      "cell_type": "code",
      "source": [
        ""
      ],
      "metadata": {
        "id": "yIREsLJuH1xM"
      },
      "execution_count": null,
      "outputs": []
    }
  ]
}