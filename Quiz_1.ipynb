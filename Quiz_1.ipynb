{
  "nbformat": 4,
  "nbformat_minor": 0,
  "metadata": {
    "colab": {
      "name": "Quiz 1",
      "provenance": [],
      "authorship_tag": "ABX9TyNC2s0i4CvXwMawAycZqnZ+",
      "include_colab_link": true
    },
    "kernelspec": {
      "name": "python3",
      "display_name": "Python 3"
    },
    "language_info": {
      "name": "python"
    }
  },
  "cells": [
    {
      "cell_type": "markdown",
      "metadata": {
        "id": "view-in-github",
        "colab_type": "text"
      },
      "source": [
        "<a href=\"https://colab.research.google.com/github/Ingapis/BasicProg_DataViz65/blob/main/Quiz_1.ipynb\" target=\"_parent\"><img src=\"https://colab.research.google.com/assets/colab-badge.svg\" alt=\"Open In Colab\"/></a>"
      ]
    },
    {
      "cell_type": "markdown",
      "source": [
        "Quiz 1\n",
        "\n",
        "คำนวณเวลาเป็นความต่างของเวลาเป็นวินาทีของช่วงเวลาต่อไปนี้โดยใช้คำสั่ง split() ช่วย และ print ออกมาให้สวยงาม\n",
        "\n",
        "09:11:50 - 12:30:15 13:41:07 - 20:00:18 21:30:15 - 00:00:00 00:00:00 - 23:59:59"
      ],
      "metadata": {
        "id": "mc_O2CyMFaE7"
      }
    },
    {
      "cell_type": "code",
      "source": [
        "q1 = '09:11:50'\n",
        "q1_sp = q1.split(':')\n",
        "print(q1_sp)\n",
        "ans1= int(q1_sp[0])*3600+int (q1_sp[1])*60+int (q1_sp[2])\n",
        "q2 = '12:30:15'\n",
        "q2_sp = q2.split(':')\n",
        "print(q2_sp)\n",
        "ans2= int(q2_sp[0])*3600+int (q2_sp[1])*60+int (q1_sp[2])\n",
        "print(f'09:11:50 - 12:30:15 แปลงเป็นความต่างของเวลาเป็นวินาทีได้ {ans2-ans1} วินาที' )"
      ],
      "metadata": {
        "colab": {
          "base_uri": "https://localhost:8080/"
        },
        "id": "t68arUGeFcM4",
        "outputId": "e23cd164-638e-429d-e59d-18df93ec9cdd"
      },
      "execution_count": 1,
      "outputs": [
        {
          "output_type": "stream",
          "name": "stdout",
          "text": [
            "['09', '11', '50']\n",
            "['12', '30', '15']\n",
            "09:11:50 - 12:30:15 แปลงเป็นความต่างของเวลาเป็นวินาทีได้ 11940 วินาที\n"
          ]
        }
      ]
    },
    {
      "cell_type": "code",
      "source": [
        "q3 = '13:41:07'\n",
        "q3_sp = q3.split(':')\n",
        "print(q3_sp)\n",
        "ans3= int(q3_sp[0])*3600+int (q3_sp[1])*60+int (q3_sp[2])\n",
        "q4 = '20:00:18'\n",
        "q4_sp = q4.split(':')\n",
        "print(q4_sp)\n",
        "ans4= int(q4_sp[0])*3600+int (q4_sp[1])*60+int (q4_sp[2])\n",
        "print(f'13:41:07 - 20:00:18 แปลงเป็นความต่างของเวลาเป็นวินาทีได้ {ans4-ans3} วินาที')"
      ],
      "metadata": {
        "colab": {
          "base_uri": "https://localhost:8080/"
        },
        "id": "vEIrPcCDFh6J",
        "outputId": "80542318-ca5c-4e2d-e872-0c97c0c152c6"
      },
      "execution_count": 2,
      "outputs": [
        {
          "output_type": "stream",
          "name": "stdout",
          "text": [
            "['13', '41', '07']\n",
            "['20', '00', '18']\n",
            "13:41:07 - 20:00:18 แปลงเป็นความต่างของเวลาเป็นวินาทีได้ 22751 วินาที\n"
          ]
        }
      ]
    },
    {
      "cell_type": "code",
      "source": [
        "q5 = '21:30:15'\n",
        "q5_sp = q5.split(':')\n",
        "print(q5_sp)\n",
        "ans5= int(q5_sp[0])*3600+int (q5_sp[1])*60+int (q5_sp[2])\n",
        "q6 = '00:00:00'\n",
        "q6_sp = q6.split(':')\n",
        "print(q6_sp)\n",
        "ans6= int(q6_sp[0])*3600+int (q6_sp[1])*60+int (q6_sp[2])\n",
        "print(f'21:30:15 - 00:00:00 แปลงเป็นความต่างของเวลาเป็นวินาทีได้ {ans5-ans6} วินาที')"
      ],
      "metadata": {
        "colab": {
          "base_uri": "https://localhost:8080/"
        },
        "id": "4XblZuAOFktB",
        "outputId": "2c4af928-f8f4-4851-bdb3-3c11cf42eba7"
      },
      "execution_count": 3,
      "outputs": [
        {
          "output_type": "stream",
          "name": "stdout",
          "text": [
            "['21', '30', '15']\n",
            "['00', '00', '00']\n",
            "21:30:15 - 00:00:00 แปลงเป็นความต่างของเวลาเป็นวินาทีได้ 77415 วินาที\n"
          ]
        }
      ]
    },
    {
      "cell_type": "code",
      "source": [
        "q7 = '00:00:00'\n",
        "q7_sp = q7.split(':')\n",
        "print(q7_sp)\n",
        "ans7= int(q7_sp[0])*3600+int (q7_sp[1])*60+int (q7_sp[2])\n",
        "q8 = '23:59:59'\n",
        "q8_sp = q8.split(':')\n",
        "print(q8_sp)\n",
        "ans8= int(q8_sp[0])*3600+int (q8_sp[1])*60+int (q8_sp[2])\n",
        "print(f'00:00:00 - 23:59:59 แปลงเป็นความต่างของเวลาเป็นวินาทีได้ {ans8-ans7} วินาที')"
      ],
      "metadata": {
        "colab": {
          "base_uri": "https://localhost:8080/"
        },
        "id": "njk4E2DlFnSK",
        "outputId": "b6c7055c-56ae-440c-e6cd-b1b6c3bb1af9"
      },
      "execution_count": 4,
      "outputs": [
        {
          "output_type": "stream",
          "name": "stdout",
          "text": [
            "['00', '00', '00']\n",
            "['23', '59', '59']\n",
            "00:00:00 - 23:59:59 แปลงเป็นความต่างของเวลาเป็นวินาทีได้ 86399 วินาที\n"
          ]
        }
      ]
    }
  ]
}